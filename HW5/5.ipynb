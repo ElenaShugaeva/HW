{
 "cells": [
  {
   "cell_type": "code",
   "execution_count": 28,
   "metadata": {},
   "outputs": [],
   "source": [
    "import json\n",
    "# i = 0\n",
    "with open('purchase_log.txt', encoding='utf-8') as f:\n",
    "    f.readline()\n",
    "    purchases = {}\n",
    "    for line in f:\n",
    "        line = line.strip()\n",
    "        purchases_line = json.loads(line)\n",
    "        purchases[purchases_line['user_id']] = purchases_line['category']\n",
    "#         print(purchases)\n",
    "#         i += 1\n",
    "#         if i > 5:\n",
    "#             break"
   ]
  },
  {
   "cell_type": "code",
   "execution_count": 29,
   "metadata": {},
   "outputs": [],
   "source": [
    "with open('visit_log.csv', 'r') as f1:\n",
    "     with open('funnel.csv', 'w', encoding='utf-8') as f2:\n",
    "        for visit_line in f1:\n",
    "            visit_line = f1.readline()\n",
    "            visit_id = visit_line.strip().split(',')[0]\n",
    "            if visit_id in purchases:\n",
    "                jump = '\\n'    \n",
    "                f2.write(','.join((visit_line.strip().split(',')[0],visit_line.strip().split(',')[1],purchases[visit_id]))+jump)\n",
    "            "
   ]
  },
  {
   "cell_type": "code",
   "execution_count": 34,
   "metadata": {},
   "outputs": [
    {
     "name": "stdout",
     "output_type": "stream",
     "text": [
      "4e4f90fcfb,context,Электроника\n",
      "\n",
      "afea8d72fc,other,Электроника\n",
      "\n",
      "9b2ab046f3,other,Электроника\n",
      "\n",
      "9f39d307c3,context,Электроника\n",
      "\n",
      "44edeffc91,context,Продукты\n",
      "\n",
      "1de31be403,other,Бытовая техника\n",
      "\n"
     ]
    }
   ],
   "source": [
    "f2 = open('funnel.csv', 'r', encoding='utf-8') \n",
    "i = 0\n",
    "for line in f2:\n",
    "    print(line)\n",
    "    i += 1\n",
    "    if i > 5:\n",
    "        break"
   ]
  },
  {
   "cell_type": "code",
   "execution_count": null,
   "metadata": {},
   "outputs": [],
   "source": []
  }
 ],
 "metadata": {
  "kernelspec": {
   "display_name": "Python 3",
   "language": "python",
   "name": "python3"
  },
  "language_info": {
   "codemirror_mode": {
    "name": "ipython",
    "version": 3
   },
   "file_extension": ".py",
   "mimetype": "text/x-python",
   "name": "python",
   "nbconvert_exporter": "python",
   "pygments_lexer": "ipython3",
   "version": "3.8.3"
  }
 },
 "nbformat": 4,
 "nbformat_minor": 4
}
