{
 "cells": [
  {
   "cell_type": "code",
   "execution_count": 1,
   "metadata": {},
   "outputs": [],
   "source": [
    "# Смоделировать игру против лотерейного автомата\n",
    "# 777: 200 руб.\n",
    "# 999: 100 руб.\n",
    "# 555: 50 руб.\n",
    "# 333: 15 руб.\n",
    "# 111: 10 руб.\n",
    "# *77: 5 руб.\n",
    "# **7: 3 руб.\n",
    "# *00: 2 руб.\n",
    "# **0: 1 руб.\n",
    "# * – любая цифра\n",
    "# Выгодна ли игра игроку?\n",
    "# Сколько в среднем приобретает\n",
    "# или теряет игрок за одну игру?"
   ]
  },
  {
   "cell_type": "code",
   "execution_count": 4,
   "metadata": {},
   "outputs": [
    {
     "name": "stdout",
     "output_type": "stream",
     "text": [
      "-2877936 -0.2877936 -0.16500000000000004\n"
     ]
    }
   ],
   "source": [
    "import numpy as np\n",
    "trials = 10000000   # Количество попыток\n",
    "successes = 0    # сумма успехов\n",
    "payment = 1\n",
    "for i in range(trials):\n",
    "    random_score = np.random.randint(0, 1000)    # Случайное количество очков от 0 до 999\n",
    "    if random_score == 777:\n",
    "        successes += (200 - payment)\n",
    "    elif random_score == 999:\n",
    "        successes += (100 - payment)\n",
    "    elif random_score == 555:\n",
    "        successes += (50 - payment)\n",
    "    elif random_score == 333:\n",
    "        successes += (15 - payment)\n",
    "    elif random_score == 111:\n",
    "        successes += (10 - payment)\n",
    "    elif random_score % 100 == 77:\n",
    "        successes += (5 - payment)\n",
    "    elif random_score % 10 == 7  :\n",
    "        successes += (3 - payment)\n",
    "    elif random_score % 100 == 0:\n",
    "        successes += (2 - payment)\n",
    "        if (random_score / 100).is_integer()  :\n",
    "            successes += (1 - payment)\n",
    "    else:\n",
    "        successes -=  payment\n",
    "    p_monte_carlo = successes / trials\n",
    "    p = (200+100+50+15+10 - (5*payment))*(1/1000)+ (5+2 - (2*payment))* (9/1000) + (3 + 1- (2*payment) )* (99/1000) + (-1)* (999-5-18-198)/1000\n",
    "    \n",
    "print(successes, p_monte_carlo, p)  \n",
    "\n"
   ]
  },
  {
   "cell_type": "code",
   "execution_count": 3,
   "metadata": {},
   "outputs": [],
   "source": [
    "\n",
    "#игрок теряет до 30 копеек с каждого рубля в среднем"
   ]
  },
  {
   "cell_type": "code",
   "execution_count": null,
   "metadata": {},
   "outputs": [],
   "source": []
  }
 ],
 "metadata": {
  "kernelspec": {
   "display_name": "Python 3",
   "language": "python",
   "name": "python3"
  },
  "language_info": {
   "codemirror_mode": {
    "name": "ipython",
    "version": 3
   },
   "file_extension": ".py",
   "mimetype": "text/x-python",
   "name": "python",
   "nbconvert_exporter": "python",
   "pygments_lexer": "ipython3",
   "version": "3.8.3"
  }
 },
 "nbformat": 4,
 "nbformat_minor": 4
}
