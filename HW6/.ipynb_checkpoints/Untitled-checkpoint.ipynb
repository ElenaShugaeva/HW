{
 "cells": [
  {
   "cell_type": "code",
   "execution_count": 1,
   "metadata": {},
   "outputs": [],
   "source": [
    "# Для каждой газеты из списка напишите формат указанной даты для перевода в объект datetime:\n",
    "# The Moscow Times - Wednesday, October 2, 2002\n",
    "# The Guardian - Friday, 11.10.13\n",
    "# Daily News - Thursday, 18 August 1977\n",
    "from datetime import datetime"
   ]
  },
  {
   "cell_type": "code",
   "execution_count": 17,
   "metadata": {},
   "outputs": [
    {
     "data": {
      "text/plain": [
       "datetime.datetime(2002, 10, 2, 0, 0)"
      ]
     },
     "execution_count": 17,
     "metadata": {},
     "output_type": "execute_result"
    }
   ],
   "source": [
    "The_Moscow_Times = 'Wednesday, October 2, 2002'\n",
    "datetime.strptime('Wednesday, October 2, 2002', '%A, %B %d, %Y')"
   ]
  },
  {
   "cell_type": "code",
   "execution_count": 10,
   "metadata": {},
   "outputs": [
    {
     "data": {
      "text/plain": [
       "datetime.datetime(2013, 10, 11, 0, 0)"
      ]
     },
     "execution_count": 10,
     "metadata": {},
     "output_type": "execute_result"
    }
   ],
   "source": [
    "The_Guardian = 'Friday, 11.10.13'\n",
    "datetime.strptime(The_Guardian, '%A, %d.%m.%y')"
   ]
  },
  {
   "cell_type": "code",
   "execution_count": 19,
   "metadata": {},
   "outputs": [
    {
     "data": {
      "text/plain": [
       "3"
      ]
     },
     "execution_count": 19,
     "metadata": {},
     "output_type": "execute_result"
    }
   ],
   "source": [
    "Daily_News = 'Thursday, 18 August 1977'\n",
    "Daily_News_dt = datetime.strptime(Daily_News, '%A, %d %B %Y')\n",
    "# type(Daily_News_dt)\n",
    "Daily_News_dt.weekday()"
   ]
  },
  {
   "cell_type": "code",
   "execution_count": 112,
   "metadata": {},
   "outputs": [
    {
     "name": "stdout",
     "output_type": "stream",
     "text": [
      "True\n",
      "False\n",
      "False\n"
     ]
    }
   ],
   "source": [
    "# Дан поток дат в формате YYYY-MM-DD, в которых встречаются некорректные значения:\n",
    "# stream = [‘2018-04-02’, ‘2018-02-29’, ‘2018-19-02’]\n",
    "# Напишите функцию, которая проверяет эти даты на корректность.\n",
    "# Т. е. для каждой даты возвращает True (дата корректна) или False (некорректная дата)\n",
    "stream = ['2018-04-02', '2018-02-29', '2018-19-02']\n",
    "def check_date(date):\n",
    "    res = True\n",
    "    try:datetime.strptime(date, '%Y-%m-%d') \n",
    "    except ValueError: res = False\n",
    "    return res\n",
    "for el in stream:\n",
    "    print(check_date(el))\n",
    "  "
   ]
  },
  {
   "cell_type": "code",
   "execution_count": null,
   "metadata": {},
   "outputs": [],
   "source": [
    "# функцию date_range, которая возвращает список дат за период от start_date до end_date. \n",
    "# Даты должны вводиться в формате YYYY-MM-DD. В случае неверного формата или при start_date > end_date\n",
    "# должен возвращаться пустой список.\n",
    "\n"
   ]
  },
  {
   "cell_type": "code",
   "execution_count": 144,
   "metadata": {},
   "outputs": [
    {
     "data": {
      "text/plain": [
       "['2018-10-15',\n",
       " '2018-10-16',\n",
       " '2018-10-17',\n",
       " '2018-10-18',\n",
       " '2018-10-19',\n",
       " '2018-10-20']"
      ]
     },
     "execution_count": 144,
     "metadata": {},
     "output_type": "execute_result"
    }
   ],
   "source": [
    "from datetime import timedelta\n",
    "def date_range(start_date, end_date):\n",
    "    gap = []\n",
    "    if False in list(map(check_date,(start_date, end_date))) or start_date > end_date:\n",
    "        pass\n",
    "    else:    \n",
    "        gap_date = datetime.strptime(start_date,'%Y-%m-%d')\n",
    "        while gap_date.strftime('%Y-%m-%d') <= end_date:\n",
    "            gap.append(gap_date.strftime('%Y-%m-%d'))\n",
    "            gap_date += timedelta(days=1)\n",
    "    return gap\n",
    "\n",
    "    \n",
    "        \n",
    "date_range('2018-10-15', '2018-10-20')   "
   ]
  },
  {
   "cell_type": "code",
   "execution_count": null,
   "metadata": {},
   "outputs": [],
   "source": []
  }
 ],
 "metadata": {
  "kernelspec": {
   "display_name": "Python 3",
   "language": "python",
   "name": "python3"
  },
  "language_info": {
   "codemirror_mode": {
    "name": "ipython",
    "version": 3
   },
   "file_extension": ".py",
   "mimetype": "text/x-python",
   "name": "python",
   "nbconvert_exporter": "python",
   "pygments_lexer": "ipython3",
   "version": "3.8.3"
  }
 },
 "nbformat": 4,
 "nbformat_minor": 4
}
