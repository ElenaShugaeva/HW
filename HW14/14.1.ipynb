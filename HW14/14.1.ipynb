{
 "cells": [
  {
   "cell_type": "code",
   "execution_count": 6,
   "metadata": {},
   "outputs": [],
   "source": [
    "import requests\n",
    "import time\n",
    "from bs4 import BeautifulSoup\n",
    "import pandas as pd"
   ]
  },
  {
   "cell_type": "code",
   "execution_count": 5,
   "metadata": {},
   "outputs": [
    {
     "data": {
      "text/html": [
       "<div>\n",
       "<style scoped>\n",
       "    .dataframe tbody tr th:only-of-type {\n",
       "        vertical-align: middle;\n",
       "    }\n",
       "\n",
       "    .dataframe tbody tr th {\n",
       "        vertical-align: top;\n",
       "    }\n",
       "\n",
       "    .dataframe thead th {\n",
       "        text-align: right;\n",
       "    }\n",
       "</style>\n",
       "<table border=\"1\" class=\"dataframe\">\n",
       "  <thead>\n",
       "    <tr style=\"text-align: right;\">\n",
       "      <th></th>\n",
       "      <th>time</th>\n",
       "      <th>link</th>\n",
       "      <th>header</th>\n",
       "    </tr>\n",
       "  </thead>\n",
       "  <tbody>\n",
       "    <tr>\n",
       "      <th>0</th>\n",
       "      <td>сегодня в 18:16</td>\n",
       "      <td>https://habr.com/ru/post/533852/</td>\n",
       "      <td>\\nКонструктор Lego и объектно-ориентированное ...</td>\n",
       "    </tr>\n",
       "    <tr>\n",
       "      <th>0</th>\n",
       "      <td>сегодня в 16:09</td>\n",
       "      <td>https://habr.com/ru/post/533040/</td>\n",
       "      <td>\\nHDB++ TANGO Archiving System</td>\n",
       "    </tr>\n",
       "  </tbody>\n",
       "</table>\n",
       "</div>"
      ],
      "text/plain": [
       "              time                              link  \\\n",
       "0  сегодня в 18:16  https://habr.com/ru/post/533852/   \n",
       "0  сегодня в 16:09  https://habr.com/ru/post/533040/   \n",
       "\n",
       "                                              header  \n",
       "0  \\nКонструктор Lego и объектно-ориентированное ...  \n",
       "0                     \\nHDB++ TANGO Archiving System  "
      ]
     },
     "execution_count": 5,
     "metadata": {},
     "output_type": "execute_result"
    }
   ],
   "source": [
    "KEYWORDS = ['парсинг', 'python']\n",
    "url = 'https://habr.com/ru/all/'\n",
    "req = requests.get(url)\n",
    "# time.sleep(0.2)\n",
    "soup = BeautifulSoup(req.text, 'html.parser')\n",
    "posts = soup.find_all('article', class_='post')\n",
    "sheets = pd.DataFrame()\n",
    "for post in posts:\n",
    "    keyword = post.text.lower()           \n",
    "    if  any(word in keyword for word in KEYWORDS):\n",
    "        time = post.find_all('span', class_='post__time')\n",
    "        for tm in time:\n",
    "            req_time = tm.text\n",
    "        link = post.find_all('a', class_='post__title_link')\n",
    "        for lin in link:\n",
    "            req_link = lin.attrs.get('href')\n",
    "        header = post.find_all('h2', class_='post__title')\n",
    "        for hd in header:\n",
    "            req_header = hd.text.rstrip('\\n')\n",
    "        row = {'time': req_time, 'link': req_link, 'header': req_header}\n",
    "        sheets = pd.concat([sheets, pd.DataFrame([row])])\n",
    "sheets"
   ]
  },
  {
   "cell_type": "code",
   "execution_count": 7,
   "metadata": {},
   "outputs": [],
   "source": [
    "import json\n",
    "url = url = 'https://identityprotection.avast.com/v1/web/query/site-breaches/unauthorized-data'\n",
    "payload = {'emailAddresses': ['xxx@x.ru', 'yyy@y.com']}\n",
    "headers = {'Server': 'nginx', 'Connection': 'keep-alive', 'Vaar-Version': '0', 'Vaar-Header-App-Product': 'hackcheck-web-avast'}\n",
    "requs = requests.post(url, data= json.dumps(payload), headers = headers )"
   ]
  },
  {
   "cell_type": "code",
   "execution_count": 15,
   "metadata": {},
   "outputs": [
    {
     "data": {
      "text/html": [
       "<div>\n",
       "<style scoped>\n",
       "    .dataframe tbody tr th:only-of-type {\n",
       "        vertical-align: middle;\n",
       "    }\n",
       "\n",
       "    .dataframe tbody tr th {\n",
       "        vertical-align: top;\n",
       "    }\n",
       "\n",
       "    .dataframe thead th {\n",
       "        text-align: right;\n",
       "    }\n",
       "</style>\n",
       "<table border=\"1\" class=\"dataframe\">\n",
       "  <thead>\n",
       "    <tr style=\"text-align: right;\">\n",
       "      <th></th>\n",
       "      <th>emails</th>\n",
       "      <th>publishDate</th>\n",
       "      <th>site</th>\n",
       "      <th>description</th>\n",
       "    </tr>\n",
       "  </thead>\n",
       "  <tbody>\n",
       "    <tr>\n",
       "      <th>0</th>\n",
       "      <td>677914246</td>\n",
       "      <td>2019-03-28T00:00:00Z</td>\n",
       "      <td>verifications.io</td>\n",
       "      <td>Big data e-mail verification platform verifica...</td>\n",
       "    </tr>\n",
       "    <tr>\n",
       "      <th>1</th>\n",
       "      <td>20549631</td>\n",
       "      <td>2020-05-21T00:00:00Z</td>\n",
       "      <td>vk.com</td>\n",
       "      <td>At some time in 2020, the Russian social netwo...</td>\n",
       "    </tr>\n",
       "    <tr>\n",
       "      <th>2</th>\n",
       "      <td>705538</td>\n",
       "      <td>2020-01-03T00:00:00Z</td>\n",
       "      <td>azcentral.com</td>\n",
       "      <td>At an unconfirmed date, online Arizona newspap...</td>\n",
       "    </tr>\n",
       "    <tr>\n",
       "      <th>3</th>\n",
       "      <td>10234249</td>\n",
       "      <td>2020-05-28T00:00:00Z</td>\n",
       "      <td>wishbone.io</td>\n",
       "      <td>In January 2020, the online poll website Wishb...</td>\n",
       "    </tr>\n",
       "    <tr>\n",
       "      <th>4</th>\n",
       "      <td>110041653</td>\n",
       "      <td>2017-11-04T00:00:00Z</td>\n",
       "      <td>myheritage.com</td>\n",
       "      <td>In October 2017, a customer database belonging...</td>\n",
       "    </tr>\n",
       "  </tbody>\n",
       "</table>\n",
       "</div>"
      ],
      "text/plain": [
       "      emails           publishDate              site  \\\n",
       "0  677914246  2019-03-28T00:00:00Z  verifications.io   \n",
       "1   20549631  2020-05-21T00:00:00Z            vk.com   \n",
       "2     705538  2020-01-03T00:00:00Z     azcentral.com   \n",
       "3   10234249  2020-05-28T00:00:00Z       wishbone.io   \n",
       "4  110041653  2017-11-04T00:00:00Z    myheritage.com   \n",
       "\n",
       "                                         description  \n",
       "0  Big data e-mail verification platform verifica...  \n",
       "1  At some time in 2020, the Russian social netwo...  \n",
       "2  At an unconfirmed date, online Arizona newspap...  \n",
       "3  In January 2020, the online poll website Wishb...  \n",
       "4  In October 2017, a customer database belonging...  "
      ]
     },
     "execution_count": 15,
     "metadata": {},
     "output_type": "execute_result"
    }
   ],
   "source": [
    "df = pd.DataFrame(requs.json()['breaches']).T.reset_index()\n",
    "df1 = df.statistics.apply(pd.Series).emails\n",
    "df3 = pd.merge(df1, df, how=\"left\", right_index=True, left_index=True)\n",
    "df3[[ 'emails','publishDate', 'site', 'description' ]].head()"
   ]
  },
  {
   "cell_type": "code",
   "execution_count": null,
   "metadata": {},
   "outputs": [],
   "source": []
  }
 ],
 "metadata": {
  "kernelspec": {
   "display_name": "Python 3",
   "language": "python",
   "name": "python3"
  },
  "language_info": {
   "codemirror_mode": {
    "name": "ipython",
    "version": 3
   },
   "file_extension": ".py",
   "mimetype": "text/x-python",
   "name": "python",
   "nbconvert_exporter": "python",
   "pygments_lexer": "ipython3",
   "version": "3.8.3"
  }
 },
 "nbformat": 4,
 "nbformat_minor": 4
}
