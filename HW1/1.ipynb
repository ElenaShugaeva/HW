{
 "cells": [
  {
   "cell_type": "code",
   "execution_count": null,
   "metadata": {},
   "outputs": [],
   "source": [
    "user_input_1 = str(input('Введите 1 фразу'))\n",
    "user_input_2 = str(input('Введите 2 фразу'))\n",
    "if len(user_input_1)>len(user_input_2):\n",
    "    print('Фраза 1 длиннее фразы 2')\n",
    "elif len(user_input_1)<len(user_input_2):\n",
    "    print('Фраза 2 длиннее фразы 1')\n",
    "else:    \n",
    "    print('Фразы равной длины')  \n"
   ]
  },
  {
   "cell_type": "code",
   "execution_count": null,
   "metadata": {},
   "outputs": [],
   "source": [
    "year_input = int(input('Введите год'))\n",
    "if year_input % 4 == 0:\n",
    "    print(year_input, '- високосный год')\n",
    "else:\n",
    "    print(year_input, '- невисокосный год')"
   ]
  },
  {
   "cell_type": "code",
   "execution_count": null,
   "metadata": {},
   "outputs": [],
   "source": [
    "date_input = int(input('Введите день'))\n",
    "month_input = str(input('Введите месяц'))\n",
    "if (date_input >= 21 and month_input == 'март') or (date_input <= 20 and month_input == 'апрель'): \n",
    "    print('Ваш знак зодиака:Овен')\n",
    "elif (date_input >= 21 and month_input == 'апрель') or (date_input <= 20 and month_input == 'май'): \n",
    "    print('Ваш знак зодиака:Телец') \n",
    "elif (date_input >= 21 and month_input == 'май') or (date_input <= 20 and month_input == 'июнь'): \n",
    "    print('Ваш знак зодиака:Близнецы') \n",
    "elif (date_input >= 21 and month_input == 'июнь') or (date_input <= 22 and month_input == 'июль'): \n",
    "    print('Ваш знак зодиака:Рак') \n",
    "elif (date_input >= 23 and month_input == 'июль') or (date_input <= 22 and month_input == 'август'): \n",
    "    print('Ваш знак зодиака:Лев') \n",
    "elif (date_input >= 23 and month_input == 'август') or (date_input <= 22 and month_input == 'сентябрь'): \n",
    "    print('Ваш знак зодиака:Дева') \n",
    "elif (date_input >= 23 and month_input == 'сентябрь') or (date_input <= 22 and month_input == 'октябрь'): \n",
    "    print('Ваш знак зодиака:Весы') \n",
    "elif (date_input >= 23 and month_input == 'октябрь') or (date_input <= 22 and month_input == 'ноябрь'): \n",
    "    print('Ваш знак зодиака:Скорпион') \n",
    "elif (date_input >= 23 and month_input == 'ноябрь') or (date_input <= 21 and month_input == 'декабрь'): \n",
    "    print('Ваш знак зодиака:Стрелец') \n",
    "elif (date_input >= 22 and month_input == 'декабрь') or (date_input <= 19 and month_input == 'январь'): \n",
    "    print('Ваш знак зодиака:Козерог') \n",
    "elif (date_input >= 20 and month_input == 'январь') or (date_input <= 19 and month_input == 'февраль'): \n",
    "    print('Ваш знак зодиака:Водолей') \n",
    "else: \n",
    "    print('Ваш знак зодиака:Рыбы') \n",
    "                \n"
   ]
  },
  {
   "cell_type": "code",
   "execution_count": 68,
   "metadata": {},
   "outputs": [
    {
     "name": "stdout",
     "output_type": "stream",
     "text": [
      "Упаковка для лыж\n"
     ]
    }
   ],
   "source": [
    "width = 10\n",
    "length = 205\n",
    "height = 5\n",
    "if width < 15 and length < 15 and height < 15:\n",
    "    print('Коробка №1')\n",
    "elif (width < 15 or length < 15 or height < 15) and (width < 50 and length < 50 and height < 50):\n",
    "        print ('Коробка №2')\n",
    "elif length >= 200:\n",
    "        print ('Упаковка для лыж')\n",
    "else:\n",
    "    print('Стандартная коробка №3')"
   ]
  },
  {
   "cell_type": "code",
   "execution_count": null,
   "metadata": {},
   "outputs": [],
   "source": []
  }
 ],
 "metadata": {
  "kernelspec": {
   "display_name": "Python 3",
   "language": "python",
   "name": "python3"
  },
  "language_info": {
   "codemirror_mode": {
    "name": "ipython",
    "version": 3
   },
   "file_extension": ".py",
   "mimetype": "text/x-python",
   "name": "python",
   "nbconvert_exporter": "python",
   "pygments_lexer": "ipython3",
   "version": "3.8.3"
  }
 },
 "nbformat": 4,
 "nbformat_minor": 4
}
