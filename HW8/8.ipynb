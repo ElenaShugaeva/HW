{
 "cells": [
  {
   "cell_type": "code",
   "execution_count": 1,
   "metadata": {},
   "outputs": [],
   "source": [
    "import re"
   ]
  },
  {
   "cell_type": "code",
   "execution_count": 66,
   "metadata": {},
   "outputs": [
    {
     "name": "stdout",
     "output_type": "stream",
     "text": [
      "Номер не валиден\n"
     ]
    }
   ],
   "source": [
    "letters = 'А, В, Е, К, М, Н, О, Р, С, Т, У, Х'\n",
    "new_letters = re.sub(r',\\s', '', letters)\n",
    "\n",
    "car_id = 'АБ22ВВ193'\n",
    "def valid(car_id):\n",
    "    regex_car_id = r'([АВЕКМНОРСТУХ]{1})(\\d{3})([АВЕКМНОРСТУХ]{2})(\\d{2})'\n",
    "    result = re.findall(regex_car_id, car_id)\n",
    "    if result!=[]:\n",
    "        print('Номер {} валиден. Регион: {}'.format(car_id[:6],car_id[-2:]))\n",
    "    else:\n",
    "        print(\"Номер не валиден\")\n",
    "valid(car_id)"
   ]
  },
  {
   "cell_type": "code",
   "execution_count": 2,
   "metadata": {},
   "outputs": [],
   "source": [
    "some_string = 'Напишите функцию функцию, которая будет будет будет будет удалять все все все все  последовательные повторы слов из из из из заданной строки строки при помощи регулярных выражений'\n"
   ]
  },
  {
   "cell_type": "code",
   "execution_count": 3,
   "metadata": {},
   "outputs": [
    {
     "name": "stdout",
     "output_type": "stream",
     "text": [
      "Напишите функцию, которая будет удалять все  последовательные повторы слов из заданной строки при помощи регулярных выражений\n"
     ]
    }
   ],
   "source": [
    "def cleaning(some_string):\n",
    "    new_string = re.sub(r'(\\w+)\\s\\1', r'\\1',some_string)\n",
    "    duplicate_check = re.search(r'(\\w+)\\s\\1', some_string) \n",
    "    try:\n",
    "        while duplicate_check.group():\n",
    "            new_string = re.sub(r'(\\w+)\\s\\1', r'\\1',new_string)\n",
    "            duplicate_check = re.search(r'(\\w{2,})\\s\\1', new_string)\n",
    "    except: print(new_string)\n",
    "        \n",
    "cleaning(some_string)"
   ]
  },
  {
   "cell_type": "code",
   "execution_count": 4,
   "metadata": {},
   "outputs": [],
   "source": [
    "some_words = 'Near Field Communication'"
   ]
  },
  {
   "cell_type": "code",
   "execution_count": 5,
   "metadata": {},
   "outputs": [
    {
     "name": "stdout",
     "output_type": "stream",
     "text": [
      "NFC\n"
     ]
    }
   ],
   "source": [
    "def abbr(some_words):\n",
    "    preparation = some_words.title()\n",
    "    first_letter = r'(?<![А-ЯA-Z])[А-ЯA-Z]'\n",
    "    first_list = re.findall(first_letter, preparation)\n",
    "    print(''.join(first_list))\n",
    "\n",
    "        \n",
    "abbr(some_words)    "
   ]
  },
  {
   "cell_type": "code",
   "execution_count": 6,
   "metadata": {},
   "outputs": [],
   "source": [
    "emails = ['test@gmail.com', 'xyz@test.in', 'test@ya.ru', 'xyz@mail.ru', 'xyz@ya.ru', 'xyz@gmail.com']\n"
   ]
  },
  {
   "cell_type": "code",
   "execution_count": 7,
   "metadata": {},
   "outputs": [
    {
     "name": "stdout",
     "output_type": "stream",
     "text": [
      "gmail.com: 2\n",
      "test.in: 1\n",
      "ya.ru: 1\n",
      "mail.ru: 1\n"
     ]
    }
   ],
   "source": [
    "def domain(emails):\n",
    "    emails_string = ' '.join(emails)\n",
    "    find_domain = r'(?:\\S+)@(\\S+)'\n",
    "    list_domain = re.findall(find_domain, emails_string)\n",
    "    dict_domain = {}\n",
    "    for el in list_domain:\n",
    "        dict_domain[el] = 1\n",
    "    else:\n",
    "        dict_domain[el] +=1\n",
    "    for el, count in dict_domain.items():\n",
    "        print(f'{el}: {count}')\n",
    "domain(emails)"
   ]
  },
  {
   "cell_type": "code",
   "execution_count": null,
   "metadata": {},
   "outputs": [],
   "source": []
  }
 ],
 "metadata": {
  "kernelspec": {
   "display_name": "Python 3",
   "language": "python",
   "name": "python3"
  },
  "language_info": {
   "codemirror_mode": {
    "name": "ipython",
    "version": 3
   },
   "file_extension": ".py",
   "mimetype": "text/x-python",
   "name": "python",
   "nbconvert_exporter": "python",
   "pygments_lexer": "ipython3",
   "version": "3.8.3"
  }
 },
 "nbformat": 4,
 "nbformat_minor": 4
}
