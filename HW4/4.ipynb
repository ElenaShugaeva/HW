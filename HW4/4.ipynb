{
 "cells": [
  {
   "cell_type": "code",
   "execution_count": 1,
   "metadata": {},
   "outputs": [],
   "source": [
    "documents = [\n",
    "{'type': 'passport', 'number': '2207 876234', 'name': 'Василий Гупкин'},\n",
    "{'type': 'invoice', 'number': '11-2', 'name': 'Геннадий Покемонов'},\n",
    "{'type': 'insurance', 'number': '10006', 'name': 'Аристарх Павлов'}\n",
    "]\n",
    "directories = {\n",
    "'1': ['2207 876234', '11-2'],\n",
    "'2': ['10006'],\n",
    "'3': []\n",
    "}\n",
    "def available_doc(store_info,asked_doc):\n",
    "    return sum(store_info,[]).count(asked_doc) \n",
    "def owner_doc(docs, asked_doc):\n",
    "    owner_doc = 0\n",
    "    for el in docs:\n",
    "        if el['number'] == asked_doc:\n",
    "            owner_doc = el['name']\n",
    "#         else: pass    \n",
    "    return owner_doc\n",
    "def finding_store(store_number, asked_doc):\n",
    "    finding_store = 0\n",
    "    for key, value in store_number:     \n",
    "            if value.count(asked_doc) == 1 :\n",
    "                finding_store = key\n",
    "#             else: pass\n",
    "    return finding_store\n",
    "def list_store(stores):\n",
    "    return ','.join(list(stores))\n",
    "def info(docs,store_number):\n",
    "    for el in docs:\n",
    "        for key, value in store_number:\n",
    "            if value.count(el['number']) == 1 :\n",
    "                el['store'] = key \n",
    "        print(f'№: {el[\"number\"]}, тип: {el[\"type\"]}, владелец: {el[\"name\"]}, полка хранения:{el[\"store\"]}') \n",
    "def store_identification(asked_store,stores):\n",
    "    if asked_store in stores:\n",
    "        print('Такая полка уже существует. Текущий перечень полок:',list_store(stores))\n",
    "    else:\n",
    "        stores[asked_store] = []\n",
    "        print('Полка добавлена. Текущий перечень полок:',list_store(stores))\n",
    "def store_deletion(asked_store,stores):\n",
    "    if stores.get(asked_store, 'not found') == 'not found':\n",
    "        print('Такой полки не существует. Текущий перечень полок:',list_store(stores))\n",
    "    elif stores[asked_store] == []:\n",
    "        del(stores[asked_store])\n",
    "        print('Полка удалена. Текущий перечень полок:',list_store(stores))\n",
    "    else: print('На полке есть документы, удалите их перед удалением полки. Текущий перечень полок:',list_store(stores))\n",
    "        \n",
    "        "
   ]
  },
  {
   "cell_type": "code",
   "execution_count": 9,
   "metadata": {},
   "outputs": [
    {
     "name": "stdout",
     "output_type": "stream",
     "text": [
      "Введите команду p\n",
      "Введите номер документа 10006\n",
      "Владелец документа: Аристарх Павлов\n",
      "Введите команду p\n",
      "Введите номер документа 123\n",
      "Документ не найден в базе\n",
      "Введите команду s\n",
      "Введите номер документа 123\n",
      "Документ не найден в базе\n",
      "Введите команду s\n",
      "Введите номер документа 10006\n",
      "Документ хранится на полке: 2\n",
      "Введите команду q\n"
     ]
    }
   ],
   "source": [
    "def main(docs,stores ):\n",
    "     while True:\n",
    "        user_input = input('Введите команду ')   \n",
    "        if user_input != 'q':\n",
    "            if user_input == 'p' or user_input == 's':\n",
    "                user_input1 = input('Введите номер документа ')\n",
    "                if available_doc(stores.values(),user_input1) == 0:\n",
    "                    print('Документ не найден в базе') \n",
    "                else:\n",
    "                    if user_input == 'p':\n",
    "                        print('Владелец документа:',owner_doc(docs,user_input1))\n",
    "                    if user_input == 's':\n",
    "                        print('Документ хранится на полке:',finding_store(stores.items(),user_input1)) \n",
    "            elif user_input == 'as' or user_input == 'ds':\n",
    "                user_input2 = input('Введите номер полки ') \n",
    "                if user_input == 'as':\n",
    "                    store_identification(user_input2, stores)\n",
    "                if user_input == 'ds':        \n",
    "                    store_deletion(user_input2, stores)\n",
    "            elif user_input == 'l': \n",
    "                info(docs,stores.items())\n",
    "        else:\n",
    "            break\n",
    "                \n",
    "main(documents,directories )  "
   ]
  },
  {
   "cell_type": "code",
   "execution_count": null,
   "metadata": {},
   "outputs": [],
   "source": []
  },
  {
   "cell_type": "code",
   "execution_count": null,
   "metadata": {},
   "outputs": [],
   "source": []
  }
 ],
 "metadata": {
  "kernelspec": {
   "display_name": "Python 3",
   "language": "python",
   "name": "python3"
  },
  "language_info": {
   "codemirror_mode": {
    "name": "ipython",
    "version": 3
   },
   "file_extension": ".py",
   "mimetype": "text/x-python",
   "name": "python",
   "nbconvert_exporter": "python",
   "pygments_lexer": "ipython3",
   "version": "3.8.3"
  }
 },
 "nbformat": 4,
 "nbformat_minor": 4
}
