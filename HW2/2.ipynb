{
 "cells": [
  {
   "cell_type": "code",
   "execution_count": 16,
   "metadata": {},
   "outputs": [
    {
     "name": "stdout",
     "output_type": "stream",
     "text": [
      "четное количество букв\n",
      "es\n"
     ]
    }
   ],
   "source": [
    "word = 'test'\n",
    "middle = int(len(word)/2)\n",
    "if len(word)%2 == 0:\n",
    "    print ('четное количество букв')\n",
    "    print(word[middle-1:middle+1])\n",
    "else:\n",
    "    print ('нечетное количество букв')\n",
    "    print(word[middle])"
   ]
  },
  {
   "cell_type": "code",
   "execution_count": 14,
   "metadata": {},
   "outputs": [
    {
     "name": "stdout",
     "output_type": "stream",
     "text": [
      "Введите число 1\n",
      "Введите число 4\n",
      "Введите число 6\n",
      "Введите число 0\n",
      "11\n"
     ]
    }
   ],
   "source": [
    "sum = 0\n",
    "number = int\n",
    "while number!=0:\n",
    "    number = int(input('Введите число '))\n",
    "    sum = number+sum\n",
    "print(sum)     "
   ]
  },
  {
   "cell_type": "code",
   "execution_count": 45,
   "metadata": {},
   "outputs": [
    {
     "name": "stdout",
     "output_type": "stream",
     "text": [
      "[('Alex', 'Emma'), ('Arthur', 'Kate'), ('John', 'Kira'), ('Peter', 'Liza'), ('Richard', 'Trisha')]\n"
     ]
    }
   ],
   "source": [
    "boys = ['Peter', 'Alex', 'John', 'Arthur', 'Richard']\n",
    "girls = ['Kate', 'Liza', 'Kira', 'Emma', 'Trisha']\n",
    "if len(boys) == len(girls):\n",
    "    boys_s = sorted(boys) \n",
    "    girls_s = sorted(girls)\n",
    "    couples = zip(boys_s,girls_s)\n",
    "    print(list(couples))\n",
    "else:\n",
    "    print('Внимание, кто-то может остаться без пары!')"
   ]
  },
  {
   "cell_type": "code",
   "execution_count": 81,
   "metadata": {},
   "outputs": [
    {
     "name": "stdout",
     "output_type": "stream",
     "text": [
      "Thailand\n",
      "23.86 C\n",
      "Germany\n",
      "13.8 C\n",
      "Russia\n",
      "3.71 C\n",
      "Poland\n",
      "12.0 C\n"
     ]
    }
   ],
   "source": [
    "countries_temperature = [\n",
    "['Thailand', [75.2, 77, 78.8, 73.4, 68, 75.2, 77]],\n",
    "['Germany', [57.2, 55.4, 59, 59, 53.6]],\n",
    "['Russia', [35.6, 37.4, 39.2, 41, 42.8, 39.2, 35.6]],\n",
    "['Poland', [50, 50, 53.6, 57.2, 55.4, 55.4]]\n",
    "]\n",
    "for countries in countries_temperature:\n",
    "    print(countries[0])\n",
    "    sum = 0\n",
    "    for temperature in countries[1]:\n",
    "        sum += temperature\n",
    "    print(round(((sum / len(countries[1]) -32)/ 1.800), 2 ) ,'C')"
   ]
  },
  {
   "cell_type": "code",
   "execution_count": null,
   "metadata": {},
   "outputs": [],
   "source": []
  }
 ],
 "metadata": {
  "kernelspec": {
   "display_name": "Python 3",
   "language": "python",
   "name": "python3"
  },
  "language_info": {
   "codemirror_mode": {
    "name": "ipython",
    "version": 3
   },
   "file_extension": ".py",
   "mimetype": "text/x-python",
   "name": "python",
   "nbconvert_exporter": "python",
   "pygments_lexer": "ipython3",
   "version": "3.8.3"
  }
 },
 "nbformat": 4,
 "nbformat_minor": 4
}
